{
 "metadata": {
  "language_info": {
   "codemirror_mode": {
    "name": "ipython",
    "version": 3
   },
   "file_extension": ".py",
   "mimetype": "text/x-python",
   "name": "python",
   "nbconvert_exporter": "python",
   "pygments_lexer": "ipython3",
   "version": "3.7.10-final"
  },
  "orig_nbformat": 2,
  "kernelspec": {
   "name": "python3710jvsc74a57bd0383a274e20dcfe6a49eaaaf7e97f7ef96d127f5804262807fc66f81dabeb2f9a",
   "display_name": "Python 3.7.10 64-bit ('myenv': conda)"
  }
 },
 "nbformat": 4,
 "nbformat_minor": 2,
 "cells": [
  {
   "source": [
    "# Tugas Besar Probabilitas dan Statistika"
   ],
   "cell_type": "markdown",
   "metadata": {}
  },
  {
   "source": [
    "import pandas as pd \n",
    "import numpy as np \n",
    "\n",
    "df = pd.read_csv('Gandum.csv', names = ['id', 'Daerah', 'SumbuUtama', 'SumbuKecil', 'Keunikan', 'AreaBulatan', 'Diameter', 'KadarAir', 'Kelilin', 'Bulatan', 'Ransum', 'Kelas'])"
   ],
   "cell_type": "code",
   "metadata": {},
   "execution_count": 63,
   "outputs": []
  },
  {
   "source": [
    "## 4. One-Sample Test\n",
    "Melakukan test hipotesis 1 sampel, dengan menuliskan 6 langkah testing dan menampilkan\n",
    "juga boxplotnya untuk kolom/bagian yang bersesuaian."
   ],
   "cell_type": "markdown",
   "metadata": {}
  },
  {
   "source": [
    "# a. Nilai rata-rata Daerah di atas 4700?\n",
    "\n",
    "# 1. H0: μ = 4700\n",
    "# 2. H1: μ > 4700\n",
    "# 3. α = 5%\n",
    "# 4. \n",
    "\n",
    "from scipy import stats as st\n",
    "\n",
    "test = df[\"Daerah\"]\n",
    "\n",
    "st.ttest_1samp(test, 4700, alternative='greater') "
   ],
   "cell_type": "code",
   "metadata": {},
   "execution_count": 65,
   "outputs": [
    {
     "output_type": "execute_result",
     "data": {
      "text/plain": [
       "Ttest_1sampResult(statistic=2.295153824252517, pvalue=0.011069185447613176)"
      ]
     },
     "metadata": {},
     "execution_count": 65
    }
   ]
  },
  {
   "source": [
    "## 5. Two-Sample Test\n",
    "Melakukan test hipotesis 2 sampel, dengan menuliskan 6 langkah testing dan menampilkan\n",
    "juga boxplotnya untuk kolom/bagian yang bersesuaian."
   ],
   "cell_type": "markdown",
   "metadata": {}
  }
 ]
}