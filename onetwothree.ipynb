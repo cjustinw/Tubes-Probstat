{
 "cells": [
  {
   "cell_type": "markdown",
   "id": "751c528e",
   "metadata": {},
   "source": [
    "# Big Task Probstat"
   ]
  },
  {
   "cell_type": "code",
   "execution_count": 52,
   "id": "7b92f415",
   "metadata": {
    "scrolled": true
   },
   "outputs": [],
   "source": [
    "import pandas as pd\n",
    "import numpy as np\n",
    "from scipy.stats import shapiro, normaltest"
   ]
  },
  {
   "cell_type": "code",
   "execution_count": 53,
   "id": "736a8f98",
   "metadata": {},
   "outputs": [
    {
     "data": {
      "text/html": [
       "<div>\n",
       "<style scoped>\n",
       "    .dataframe tbody tr th:only-of-type {\n",
       "        vertical-align: middle;\n",
       "    }\n",
       "\n",
       "    .dataframe tbody tr th {\n",
       "        vertical-align: top;\n",
       "    }\n",
       "\n",
       "    .dataframe thead th {\n",
       "        text-align: right;\n",
       "    }\n",
       "</style>\n",
       "<table border=\"1\" class=\"dataframe\">\n",
       "  <thead>\n",
       "    <tr style=\"text-align: right;\">\n",
       "      <th></th>\n",
       "      <th>id</th>\n",
       "      <th>Daerah</th>\n",
       "      <th>SumbuUtama</th>\n",
       "      <th>SumbuKecil</th>\n",
       "      <th>Keunikan</th>\n",
       "      <th>AreaBulatan</th>\n",
       "      <th>Diameter</th>\n",
       "      <th>KadarAir</th>\n",
       "      <th>Keliling</th>\n",
       "      <th>Bulatan</th>\n",
       "      <th>Ransum</th>\n",
       "      <th>Kelas</th>\n",
       "    </tr>\n",
       "  </thead>\n",
       "  <tbody>\n",
       "    <tr>\n",
       "      <th>0</th>\n",
       "      <td>1</td>\n",
       "      <td>5781</td>\n",
       "      <td>128.288875</td>\n",
       "      <td>58.470846</td>\n",
       "      <td>0.890095</td>\n",
       "      <td>5954</td>\n",
       "      <td>85.793926</td>\n",
       "      <td>0.674090</td>\n",
       "      <td>316.756</td>\n",
       "      <td>0.724041</td>\n",
       "      <td>2.194066</td>\n",
       "      <td>1</td>\n",
       "    </tr>\n",
       "    <tr>\n",
       "      <th>1</th>\n",
       "      <td>2</td>\n",
       "      <td>4176</td>\n",
       "      <td>109.348294</td>\n",
       "      <td>49.837688</td>\n",
       "      <td>0.890098</td>\n",
       "      <td>4277</td>\n",
       "      <td>72.918093</td>\n",
       "      <td>0.596231</td>\n",
       "      <td>260.346</td>\n",
       "      <td>0.774227</td>\n",
       "      <td>2.194088</td>\n",
       "      <td>1</td>\n",
       "    </tr>\n",
       "    <tr>\n",
       "      <th>2</th>\n",
       "      <td>3</td>\n",
       "      <td>4555</td>\n",
       "      <td>114.427991</td>\n",
       "      <td>52.151207</td>\n",
       "      <td>0.890105</td>\n",
       "      <td>4706</td>\n",
       "      <td>76.155145</td>\n",
       "      <td>0.776641</td>\n",
       "      <td>279.606</td>\n",
       "      <td>0.732159</td>\n",
       "      <td>2.194158</td>\n",
       "      <td>1</td>\n",
       "    </tr>\n",
       "    <tr>\n",
       "      <th>3</th>\n",
       "      <td>4</td>\n",
       "      <td>4141</td>\n",
       "      <td>108.701190</td>\n",
       "      <td>49.457349</td>\n",
       "      <td>0.890499</td>\n",
       "      <td>4236</td>\n",
       "      <td>72.611879</td>\n",
       "      <td>0.633180</td>\n",
       "      <td>260.478</td>\n",
       "      <td>0.766961</td>\n",
       "      <td>2.197877</td>\n",
       "      <td>1</td>\n",
       "    </tr>\n",
       "    <tr>\n",
       "      <th>4</th>\n",
       "      <td>5</td>\n",
       "      <td>5273</td>\n",
       "      <td>122.747868</td>\n",
       "      <td>55.757848</td>\n",
       "      <td>0.890876</td>\n",
       "      <td>5431</td>\n",
       "      <td>81.937733</td>\n",
       "      <td>0.669842</td>\n",
       "      <td>302.730</td>\n",
       "      <td>0.723031</td>\n",
       "      <td>2.201446</td>\n",
       "      <td>1</td>\n",
       "    </tr>\n",
       "    <tr>\n",
       "      <th>...</th>\n",
       "      <td>...</td>\n",
       "      <td>...</td>\n",
       "      <td>...</td>\n",
       "      <td>...</td>\n",
       "      <td>...</td>\n",
       "      <td>...</td>\n",
       "      <td>...</td>\n",
       "      <td>...</td>\n",
       "      <td>...</td>\n",
       "      <td>...</td>\n",
       "      <td>...</td>\n",
       "      <td>...</td>\n",
       "    </tr>\n",
       "    <tr>\n",
       "      <th>495</th>\n",
       "      <td>496</td>\n",
       "      <td>5083</td>\n",
       "      <td>120.083450</td>\n",
       "      <td>54.821580</td>\n",
       "      <td>0.889709</td>\n",
       "      <td>5179</td>\n",
       "      <td>80.447975</td>\n",
       "      <td>0.534827</td>\n",
       "      <td>286.377</td>\n",
       "      <td>0.778850</td>\n",
       "      <td>2.190441</td>\n",
       "      <td>2</td>\n",
       "    </tr>\n",
       "    <tr>\n",
       "      <th>496</th>\n",
       "      <td>497</td>\n",
       "      <td>4432</td>\n",
       "      <td>112.367050</td>\n",
       "      <td>51.294914</td>\n",
       "      <td>0.889726</td>\n",
       "      <td>4550</td>\n",
       "      <td>75.119889</td>\n",
       "      <td>0.601194</td>\n",
       "      <td>270.823</td>\n",
       "      <td>0.759344</td>\n",
       "      <td>2.190608</td>\n",
       "      <td>2</td>\n",
       "    </tr>\n",
       "    <tr>\n",
       "      <th>497</th>\n",
       "      <td>498</td>\n",
       "      <td>5020</td>\n",
       "      <td>119.873742</td>\n",
       "      <td>54.718545</td>\n",
       "      <td>0.889740</td>\n",
       "      <td>5104</td>\n",
       "      <td>79.947874</td>\n",
       "      <td>0.528421</td>\n",
       "      <td>285.799</td>\n",
       "      <td>0.772311</td>\n",
       "      <td>2.190733</td>\n",
       "      <td>2</td>\n",
       "    </tr>\n",
       "    <tr>\n",
       "      <th>498</th>\n",
       "      <td>499</td>\n",
       "      <td>4035</td>\n",
       "      <td>107.311728</td>\n",
       "      <td>48.930802</td>\n",
       "      <td>0.889996</td>\n",
       "      <td>4150</td>\n",
       "      <td>71.676506</td>\n",
       "      <td>0.584698</td>\n",
       "      <td>258.503</td>\n",
       "      <td>0.758791</td>\n",
       "      <td>2.193132</td>\n",
       "      <td>2</td>\n",
       "    </tr>\n",
       "    <tr>\n",
       "      <th>499</th>\n",
       "      <td>500</td>\n",
       "      <td>3379</td>\n",
       "      <td>99.014789</td>\n",
       "      <td>44.631551</td>\n",
       "      <td>0.892647</td>\n",
       "      <td>3491</td>\n",
       "      <td>65.591741</td>\n",
       "      <td>0.653578</td>\n",
       "      <td>237.593</td>\n",
       "      <td>0.752196</td>\n",
       "      <td>2.218493</td>\n",
       "      <td>2</td>\n",
       "    </tr>\n",
       "  </tbody>\n",
       "</table>\n",
       "<p>500 rows × 12 columns</p>\n",
       "</div>"
      ],
      "text/plain": [
       "      id  Daerah  SumbuUtama  SumbuKecil  Keunikan  AreaBulatan   Diameter  \\\n",
       "0      1    5781  128.288875   58.470846  0.890095         5954  85.793926   \n",
       "1      2    4176  109.348294   49.837688  0.890098         4277  72.918093   \n",
       "2      3    4555  114.427991   52.151207  0.890105         4706  76.155145   \n",
       "3      4    4141  108.701190   49.457349  0.890499         4236  72.611879   \n",
       "4      5    5273  122.747868   55.757848  0.890876         5431  81.937733   \n",
       "..   ...     ...         ...         ...       ...          ...        ...   \n",
       "495  496    5083  120.083450   54.821580  0.889709         5179  80.447975   \n",
       "496  497    4432  112.367050   51.294914  0.889726         4550  75.119889   \n",
       "497  498    5020  119.873742   54.718545  0.889740         5104  79.947874   \n",
       "498  499    4035  107.311728   48.930802  0.889996         4150  71.676506   \n",
       "499  500    3379   99.014789   44.631551  0.892647         3491  65.591741   \n",
       "\n",
       "     KadarAir  Keliling   Bulatan    Ransum  Kelas  \n",
       "0    0.674090   316.756  0.724041  2.194066      1  \n",
       "1    0.596231   260.346  0.774227  2.194088      1  \n",
       "2    0.776641   279.606  0.732159  2.194158      1  \n",
       "3    0.633180   260.478  0.766961  2.197877      1  \n",
       "4    0.669842   302.730  0.723031  2.201446      1  \n",
       "..        ...       ...       ...       ...    ...  \n",
       "495  0.534827   286.377  0.778850  2.190441      2  \n",
       "496  0.601194   270.823  0.759344  2.190608      2  \n",
       "497  0.528421   285.799  0.772311  2.190733      2  \n",
       "498  0.584698   258.503  0.758791  2.193132      2  \n",
       "499  0.653578   237.593  0.752196  2.218493      2  \n",
       "\n",
       "[500 rows x 12 columns]"
      ]
     },
     "execution_count": 53,
     "metadata": {},
     "output_type": "execute_result"
    }
   ],
   "source": [
    "df = pd.read_csv('Gandum.csv', names = ['id', 'Daerah', 'SumbuUtama', 'SumbuKecil', 'Keunikan', 'AreaBulatan', 'Diameter', 'KadarAir', 'Keliling', 'Bulatan', 'Ransum', 'Kelas'])\n",
    "df"
   ]
  },
  {
   "cell_type": "markdown",
   "id": "5a555132",
   "metadata": {},
   "source": [
    "## Soal 1\n",
    "Menulis deskripsi statistika (Descriptive Statistics) dari semua kolom pada data yang bersifat\n",
    "numerik, terdiri dari mean, median, modus, standar deviasi, variansi, range, nilai minimum,\n",
    "maksimum, kuartil, IQR, skewness dan kurtosis. Boleh juga ditambahkan deskripsi lain."
   ]
  },
  {
   "cell_type": "code",
   "execution_count": 54,
   "id": "6b13dc42",
   "metadata": {
    "scrolled": true
   },
   "outputs": [],
   "source": [
    "numeric = ['Daerah', 'SumbuUtama', 'SumbuKecil', 'Keunikan', 'AreaBulatan', 'Diameter', 'KadarAir', 'Keliling', 'Bulatan', 'Ransum']\n",
    "\n",
    "listOfMean = []\n",
    "listOfMedian = []\n",
    "listOfMode = []\n",
    "listOfStd = []\n",
    "listOfVar = []\n",
    "listOfMin = []\n",
    "listOfMax = []\n",
    "listOfRange = []\n",
    "listOfQtile = []\n",
    "listOfIQR = []\n",
    "listOfSkew = []\n",
    "listOfKurt = []\n",
    "\n",
    "i = 0\n",
    "while i < len(numeric):\n",
    "    listOfMean.append(df[numeric[i]].mean())\n",
    "    listOfMedian.append(df[numeric[i]].median())\n",
    "    listOfMode.append(df[numeric[i]].mode())\n",
    "    listOfStd.append(df[numeric[i]].std())\n",
    "    listOfVar.append(df[numeric[i]].var())\n",
    "    listOfMin.append(df[numeric[i]].min())\n",
    "    listOfMax.append(df[numeric[i]].max())\n",
    "    listOfRange.append(listOfMax[i]-listOfMin[i])\n",
    "    listOfQtile.append(df[numeric[i]].quantile([.25,.5,.75]))\n",
    "    listOfIQR.append(listOfQtile[i][.75]-listOfQtile[i][.25])\n",
    "    listOfSkew.append(df[numeric[i]].skew())\n",
    "    listOfKurt.append(df[numeric[i]].kurt())\n",
    "    i+=1"
   ]
  },
  {
   "cell_type": "code",
   "execution_count": 55,
   "id": "94eb6e47",
   "metadata": {},
   "outputs": [
    {
     "name": "stdout",
     "output_type": "stream",
     "text": [
      "Daerah\n",
      "Mean            : 4801.246\n",
      "Median          : 4735.0\n",
      "Modus           : [3992 4881 5642 6083]\n",
      "Standar deviasi : 986.3954914816017\n",
      "Variansi        : 972976.0656152305\n",
      "Nilai minimum   : 2522\n",
      "Nilai maksimum  : 7453\n",
      "Range           : 4931\n",
      "Q1, Q2, Q3      : 4042.75, 4735.0, 5495.5\n",
      "IQR             : 1452.75\n",
      "Skewness        : 0.23814408738280812\n",
      "Kurtosis        : -0.4346305340273977\n"
     ]
    }
   ],
   "source": [
    "print(\"Daerah\")\n",
    "print(\"Mean            : {0}\".format(listOfMean[0]))\n",
    "print(\"Median          : {0}\".format(listOfMedian[0]))\n",
    "print(\"Modus           : {0}\".format(listOfMode[0].to_numpy()))\n",
    "print(\"Standar deviasi : {0}\".format(listOfStd[0]))\n",
    "print(\"Variansi        : {0}\".format(listOfVar[0]))\n",
    "print(\"Nilai minimum   : {0}\".format(listOfMin[0]))\n",
    "print(\"Nilai maksimum  : {0}\".format(listOfMax[0]))\n",
    "print(\"Range           : {0}\".format(listOfRange[0]))\n",
    "print(\"Q1, Q2, Q3      : {0}, {1}, {2}\".format(listOfQtile[0][.25],listOfQtile[0][.5],listOfQtile[0][.75]))\n",
    "print(\"IQR             : {0}\".format(listOfIQR[0]))\n",
    "print(\"Skewness        : {0}\".format(listOfSkew[0]))\n",
    "print(\"Kurtosis        : {0}\".format(listOfKurt[0]))"
   ]
  },
  {
   "cell_type": "code",
   "execution_count": 56,
   "id": "85c05726",
   "metadata": {},
   "outputs": [
    {
     "name": "stdout",
     "output_type": "stream",
     "text": [
      "SumbuUtama\n",
      "Mean            : 116.04517136778\n",
      "Median          : 115.40513995\n",
      "Modus           : tidak ada, data bersifat unique\n",
      "Standar deviasi : 18.28262595755935\n",
      "Variansi        : 334.25441190402296\n",
      "Nilai minimum   : 74.13311404\n",
      "Nilai maksimum  : 227.9285827\n",
      "Range           : 153.79546865999998\n",
      "Q1, Q2, Q3      : 104.116098175, 115.40513995, 129.046792025\n",
      "IQR             : 24.930693849999997\n",
      "Skewness        : 0.7615287378076652\n",
      "Kurtosis        : 4.33053354843697\n"
     ]
    }
   ],
   "source": [
    "print(\"SumbuUtama\")\n",
    "print(\"Mean            : {0}\".format(listOfMean[1]))\n",
    "print(\"Median          : {0}\".format(listOfMedian[1]))\n",
    "print(\"Modus           : tidak ada, data bersifat unique\")\n",
    "print(\"Standar deviasi : {0}\".format(listOfStd[1]))\n",
    "print(\"Variansi        : {0}\".format(listOfVar[1]))\n",
    "print(\"Nilai minimum   : {0}\".format(listOfMin[1]))\n",
    "print(\"Nilai maksimum  : {0}\".format(listOfMax[1]))\n",
    "print(\"Range           : {0}\".format(listOfRange[1]))\n",
    "print(\"Q1, Q2, Q3      : {0}, {1}, {2}\".format(listOfQtile[1][.25],listOfQtile[1][.5],listOfQtile[1][.75]))\n",
    "print(\"IQR             : {0}\".format(listOfIQR[1]))\n",
    "print(\"Skewness        : {0}\".format(listOfSkew[1]))\n",
    "print(\"Kurtosis        : {0}\".format(listOfKurt[1]))"
   ]
  },
  {
   "cell_type": "code",
   "execution_count": 57,
   "id": "403b104c",
   "metadata": {
    "scrolled": false
   },
   "outputs": [
    {
     "name": "stdout",
     "output_type": "stream",
     "text": [
      "SumbuKecil\n",
      "Mean            : 53.71524598896\n",
      "Median          : 53.731198774999996\n",
      "Modus           : tidak ada, data bersifat unique\n",
      "Standar deviasi : 4.0710747524750355\n",
      "Variansi        : 16.57364964023967\n",
      "Nilai minimum   : 39.90651744\n",
      "Nilai maksimum  : 68.97769987\n",
      "Range           : 29.071182429999993\n",
      "Q1, Q2, Q3      : 51.1935763325, 53.731198774999996, 56.3251579825\n",
      "IQR             : 5.131581650000001\n",
      "Skewness        : -0.010828051555611359\n",
      "Kurtosis        : 0.475568450438137\n"
     ]
    }
   ],
   "source": [
    "print(\"SumbuKecil\")\n",
    "print(\"Mean            : {0}\".format(listOfMean[2]))\n",
    "print(\"Median          : {0}\".format(listOfMedian[2]))\n",
    "print(\"Modus           : tidak ada, data bersifat unique\")\n",
    "print(\"Standar deviasi : {0}\".format(listOfStd[2]))\n",
    "print(\"Variansi        : {0}\".format(listOfVar[2]))\n",
    "print(\"Nilai minimum   : {0}\".format(listOfMin[2]))\n",
    "print(\"Nilai maksimum  : {0}\".format(listOfMax[2]))\n",
    "print(\"Range           : {0}\".format(listOfRange[2]))\n",
    "print(\"Q1, Q2, Q3      : {0}, {1}, {2}\".format(listOfQtile[2][.25],listOfQtile[2][.5],listOfQtile[2][.75]))\n",
    "print(\"IQR             : {0}\".format(listOfIQR[2]))\n",
    "print(\"Skewness        : {0}\".format(listOfSkew[2]))\n",
    "print(\"Kurtosis        : {0}\".format(listOfKurt[2]))"
   ]
  },
  {
   "cell_type": "code",
   "execution_count": 58,
   "id": "57e08c9c",
   "metadata": {
    "scrolled": true
   },
   "outputs": [
    {
     "name": "stdout",
     "output_type": "stream",
     "text": [
      "Keunikan\n",
      "Mean            : 0.8787639143399999\n",
      "Median          : 0.8900454185\n",
      "Modus           : tidak ada, data bersifat unique\n",
      "Standar deviasi : 0.036585905504777014\n",
      "Variansi        : 0.0013385284816044732\n",
      "Nilai minimum   : 0.719916226\n",
      "Nilai maksimum  : 0.914001406\n",
      "Range           : 0.19408517999999997\n",
      "Q1, Q2, Q3      : 0.86367575275, 0.8900454185, 0.907577917\n",
      "IQR             : 0.04390216425000004\n",
      "Skewness        : -1.6234718222806501\n",
      "Kurtosis        : 2.917255925694391\n"
     ]
    }
   ],
   "source": [
    "print(\"Keunikan\")\n",
    "print(\"Mean            : {0}\".format(listOfMean[3]))\n",
    "print(\"Median          : {0}\".format(listOfMedian[3]))\n",
    "print(\"Modus           : tidak ada, data bersifat unique\")\n",
    "print(\"Standar deviasi : {0}\".format(listOfStd[3]))\n",
    "print(\"Variansi        : {0}\".format(listOfVar[3]))\n",
    "print(\"Nilai minimum   : {0}\".format(listOfMin[3]))\n",
    "print(\"Nilai maksimum  : {0}\".format(listOfMax[3]))\n",
    "print(\"Range           : {0}\".format(listOfRange[3]))\n",
    "print(\"Q1, Q2, Q3      : {0}, {1}, {2}\".format(listOfQtile[3][.25],listOfQtile[3][.5],listOfQtile[3][.75]))\n",
    "print(\"IQR             : {0}\".format(listOfIQR[3]))\n",
    "print(\"Skewness        : {0}\".format(listOfSkew[3]))\n",
    "print(\"Kurtosis        : {0}\".format(listOfKurt[3]))"
   ]
  },
  {
   "cell_type": "code",
   "execution_count": 59,
   "id": "eaeaca03",
   "metadata": {},
   "outputs": [
    {
     "name": "stdout",
     "output_type": "stream",
     "text": [
      "AreaBulatan\n",
      "Mean            : 4937.048\n",
      "Median          : 4857.0\n",
      "Modus           : [3802 4913]\n",
      "Standar deviasi : 1011.6962549701573\n",
      "Variansi        : 1023529.3123206414\n",
      "Nilai minimum   : 2579\n",
      "Nilai maksimum  : 7720\n",
      "Range           : 5141\n",
      "Q1, Q2, Q3      : 4170.25, 4857.0, 5654.25\n",
      "IQR             : 1484.0\n",
      "Skewness        : 0.2575600053152032\n",
      "Kurtosis        : -0.40968492037366033\n"
     ]
    }
   ],
   "source": [
    "print(\"AreaBulatan\")\n",
    "print(\"Mean            : {0}\".format(listOfMean[4]))\n",
    "print(\"Median          : {0}\".format(listOfMedian[4]))\n",
    "print(\"Modus           : {0}\".format(listOfMode[4].to_numpy()))\n",
    "print(\"Standar deviasi : {0}\".format(listOfStd[4]))\n",
    "print(\"Variansi        : {0}\".format(listOfVar[4]))\n",
    "print(\"Nilai minimum   : {0}\".format(listOfMin[4]))\n",
    "print(\"Nilai maksimum  : {0}\".format(listOfMax[4]))\n",
    "print(\"Range           : {0}\".format(listOfRange[4]))\n",
    "print(\"Q1, Q2, Q3      : {0}, {1}, {2}\".format(listOfQtile[4][.25],listOfQtile[4][.5],listOfQtile[4][.75]))\n",
    "print(\"IQR             : {0}\".format(listOfIQR[4]))\n",
    "print(\"Skewness        : {0}\".format(listOfSkew[4]))\n",
    "print(\"Kurtosis        : {0}\".format(listOfKurt[4]))"
   ]
  },
  {
   "cell_type": "code",
   "execution_count": 60,
   "id": "68093da3",
   "metadata": {},
   "outputs": [
    {
     "name": "stdout",
     "output_type": "stream",
     "text": [
      "Diameter\n",
      "Mean            : 77.77115780832001\n",
      "Median          : 77.64527658\n",
      "Modus           : [71.29356396 78.83325579 84.75622403 88.00634154]\n",
      "Standar deviasi : 8.056867291849713\n",
      "Variansi        : 64.91311055847774\n",
      "Nilai minimum   : 56.66665803\n",
      "Nilai maksimum  : 97.41383027\n",
      "Range           : 40.747172240000005\n",
      "Q1, Q2, Q3      : 71.7453075475, 77.64527658, 83.6485975675\n",
      "IQR             : 11.90329002\n",
      "Skewness        : 0.002724966865193717\n",
      "Kurtosis        : -0.46645451303121455\n"
     ]
    }
   ],
   "source": [
    "print(\"Diameter\")\n",
    "print(\"Mean            : {0}\".format(listOfMean[5]))\n",
    "print(\"Median          : {0}\".format(listOfMedian[5]))\n",
    "print(\"Modus           : {0}\".format(listOfMode[5].to_numpy()))\n",
    "print(\"Standar deviasi : {0}\".format(listOfStd[5]))\n",
    "print(\"Variansi        : {0}\".format(listOfVar[5]))\n",
    "print(\"Nilai minimum   : {0}\".format(listOfMin[5]))\n",
    "print(\"Nilai maksimum  : {0}\".format(listOfMax[5]))\n",
    "print(\"Range           : {0}\".format(listOfRange[5]))\n",
    "print(\"Q1, Q2, Q3      : {0}, {1}, {2}\".format(listOfQtile[5][.25],listOfQtile[5][.5],listOfQtile[5][.75]))\n",
    "print(\"IQR             : {0}\".format(listOfIQR[5]))\n",
    "print(\"Skewness        : {0}\".format(listOfSkew[5]))\n",
    "print(\"Kurtosis        : {0}\".format(listOfKurt[5]))"
   ]
  },
  {
   "cell_type": "code",
   "execution_count": 61,
   "id": "90df7f00",
   "metadata": {},
   "outputs": [
    {
     "name": "stdout",
     "output_type": "stream",
     "text": [
      "KadarAir\n",
      "Mean            : 0.6483716718979999\n",
      "Median          : 0.626116699\n",
      "Modus           : [0.73584906 0.82440476]\n",
      "Standar deviasi : 0.09436709809379533\n",
      "Variansi        : 0.00890514920264399\n",
      "Nilai minimum   : 0.409927152\n",
      "Nilai maksimum  : 0.878899083\n",
      "Range           : 0.46897193099999995\n",
      "Q1, Q2, Q3      : 0.57263245725, 0.626116699, 0.7266333445\n",
      "IQR             : 0.15400088724999994\n",
      "Skewness        : 0.49366131797330265\n",
      "Kurtosis        : -0.7403261705867821\n"
     ]
    }
   ],
   "source": [
    "print(\"KadarAir\")\n",
    "print(\"Mean            : {0}\".format(listOfMean[6]))\n",
    "print(\"Median          : {0}\".format(listOfMedian[6]))\n",
    "print(\"Modus           : {0}\".format(listOfMode[6].to_numpy()))\n",
    "print(\"Standar deviasi : {0}\".format(listOfStd[6]))\n",
    "print(\"Variansi        : {0}\".format(listOfVar[6]))\n",
    "print(\"Nilai minimum   : {0}\".format(listOfMin[6]))\n",
    "print(\"Nilai maksimum  : {0}\".format(listOfMax[6]))\n",
    "print(\"Range           : {0}\".format(listOfRange[6]))\n",
    "print(\"Q1, Q2, Q3      : {0}, {1}, {2}\".format(listOfQtile[6][.25],listOfQtile[6][.5],listOfQtile[6][.75]))\n",
    "print(\"IQR             : {0}\".format(listOfIQR[6]))\n",
    "print(\"Skewness        : {0}\".format(listOfSkew[6]))\n",
    "print(\"Kurtosis        : {0}\".format(listOfKurt[6]))"
   ]
  },
  {
   "cell_type": "code",
   "execution_count": 62,
   "id": "9c4543ce",
   "metadata": {},
   "outputs": [
    {
     "name": "stdout",
     "output_type": "stream",
     "text": [
      "Keliling\n",
      "Mean            : 281.4797219999999\n",
      "Median          : 280.0455\n",
      "Modus           : tidak ada, data bersifat unique\n",
      "Standar deviasi : 37.33540171514401\n",
      "Variansi        : 1393.9322212311781\n",
      "Nilai minimum   : 197.015\n",
      "Nilai maksimum  : 488.837\n",
      "Range           : 291.822\n",
      "Q1, Q2, Q3      : 255.883, 280.0455, 306.0625\n",
      "IQR             : 50.17949999999999\n",
      "Skewness        : 0.7336269072005543\n",
      "Kurtosis        : 2.272684731245573\n"
     ]
    }
   ],
   "source": [
    "print(\"Keliling\")\n",
    "print(\"Mean            : {0}\".format(listOfMean[7]))\n",
    "print(\"Median          : {0}\".format(listOfMedian[7]))\n",
    "print(\"Modus           : tidak ada, data bersifat unique\")\n",
    "print(\"Standar deviasi : {0}\".format(listOfStd[7]))\n",
    "print(\"Variansi        : {0}\".format(listOfVar[7]))\n",
    "print(\"Nilai minimum   : {0}\".format(listOfMin[7]))\n",
    "print(\"Nilai maksimum  : {0}\".format(listOfMax[7]))\n",
    "print(\"Range           : {0}\".format(listOfRange[7]))\n",
    "print(\"Q1, Q2, Q3      : {0}, {1}, {2}\".format(listOfQtile[7][.25],listOfQtile[7][.5],listOfQtile[7][.75]))\n",
    "print(\"IQR             : {0}\".format(listOfIQR[7]))\n",
    "print(\"Skewness        : {0}\".format(listOfSkew[7]))\n",
    "print(\"Kurtosis        : {0}\".format(listOfKurt[7]))"
   ]
  },
  {
   "cell_type": "code",
   "execution_count": 63,
   "id": "6f508ac2",
   "metadata": {},
   "outputs": [
    {
     "name": "stdout",
     "output_type": "stream",
     "text": [
      "Bulatan\n",
      "Mean            : 0.7617374363080001\n",
      "Median          : 0.7612884394999999\n",
      "Modus           : tidak ada, data bersifat unique\n",
      "Standar deviasi : 0.06170246078673261\n",
      "Variansi        : 0.0038071936671382756\n",
      "Nilai minimum   : 0.174590178\n",
      "Nilai maksimum  : 0.904748313\n",
      "Range           : 0.730158135\n",
      "Q1, Q2, Q3      : 0.731990728, 0.7612884394999999, 0.79636096975\n",
      "IQR             : 0.06437024175000006\n",
      "Skewness        : -3.599236766361642\n",
      "Kurtosis        : 29.975095904630063\n"
     ]
    }
   ],
   "source": [
    "print(\"Bulatan\")\n",
    "print(\"Mean            : {0}\".format(listOfMean[8]))\n",
    "print(\"Median          : {0}\".format(listOfMedian[8]))\n",
    "print(\"Modus           : tidak ada, data bersifat unique\")\n",
    "print(\"Standar deviasi : {0}\".format(listOfStd[8]))\n",
    "print(\"Variansi        : {0}\".format(listOfVar[8]))\n",
    "print(\"Nilai minimum   : {0}\".format(listOfMin[8]))\n",
    "print(\"Nilai maksimum  : {0}\".format(listOfMax[8]))\n",
    "print(\"Range           : {0}\".format(listOfRange[8]))\n",
    "print(\"Q1, Q2, Q3      : {0}, {1}, {2}\".format(listOfQtile[8][.25],listOfQtile[8][.5],listOfQtile[8][.75]))\n",
    "print(\"IQR             : {0}\".format(listOfIQR[8]))\n",
    "print(\"Skewness        : {0}\".format(listOfSkew[8]))\n",
    "print(\"Kurtosis        : {0}\".format(listOfKurt[8]))"
   ]
  },
  {
   "cell_type": "code",
   "execution_count": 64,
   "id": "b815ba11",
   "metadata": {},
   "outputs": [
    {
     "name": "stdout",
     "output_type": "stream",
     "text": [
      "Ransum\n",
      "Mean            : 2.150915331084\n",
      "Median          : 2.1935990365\n",
      "Modus           : tidak ada, data bersifat unique\n",
      "Standar deviasi : 0.2497668892706582\n",
      "Variansi        : 0.06238349897594124\n",
      "Nilai minimum   : 1.440795615\n",
      "Nilai maksimum  : 2.464808581\n",
      "Range           : 1.0240129660000001\n",
      "Q1, Q2, Q3      : 1.98393879075, 2.1935990365, 2.38161221825\n",
      "IQR             : 0.3976734275\n",
      "Skewness        : -0.6581880925333655\n",
      "Kurtosis        : -0.4286557930626147\n"
     ]
    }
   ],
   "source": [
    "print(\"Ransum\")\n",
    "print(\"Mean            : {0}\".format(listOfMean[9]))\n",
    "print(\"Median          : {0}\".format(listOfMedian[9]))\n",
    "print(\"Modus           : tidak ada, data bersifat unique\")\n",
    "print(\"Standar deviasi : {0}\".format(listOfStd[9]))\n",
    "print(\"Variansi        : {0}\".format(listOfVar[9]))\n",
    "print(\"Nilai minimum   : {0}\".format(listOfMin[9]))\n",
    "print(\"Nilai maksimum  : {0}\".format(listOfMax[9]))\n",
    "print(\"Range           : {0}\".format(listOfRange[9]))\n",
    "print(\"Q1, Q2, Q3      : {0}, {1}, {2}\".format(listOfQtile[9][.25],listOfQtile[9][.5],listOfQtile[9][.75]))\n",
    "print(\"IQR             : {0}\".format(listOfIQR[9]))\n",
    "print(\"Skewness        : {0}\".format(listOfSkew[9]))\n",
    "print(\"Kurtosis        : {0}\".format(listOfKurt[9]))"
   ]
  },
  {
   "cell_type": "markdown",
   "id": "6dd5e5c1",
   "metadata": {},
   "source": [
    "## Soal 2\n",
    "Membuat Visualisasi plot distribusi, dalam bentuk histogram dan boxplot untuk setiap\n",
    "kolom numerik. Berikan uraian penjelasan kondisi setiap kolom berdasarkan kedua plot\n",
    "tersebut."
   ]
  },
  {
   "cell_type": "code",
   "execution_count": 65,
   "id": "a04c1240",
   "metadata": {
    "scrolled": true
   },
   "outputs": [
    {
     "data": {
      "text/plain": [
       "<AxesSubplot:>"
      ]
     },
     "execution_count": 65,
     "metadata": {},
     "output_type": "execute_result"
    },
    {
     "data": {
      "image/png": "[encoded data removed]",
      "text/plain": [
       "<Figure size 432x288 with 1 Axes>"
      ]
     },
     "metadata": {
      "needs_background": "light"
     },
     "output_type": "display_data"
    }
   ],
   "source": [
    "df[\"Daerah\"].hist()"
   ]
  },
  {
   "cell_type": "code",
   "execution_count": 66,
   "id": "6078f52f",
   "metadata": {
    "scrolled": true
   },
   "outputs": [
    {
     "data": {
      "text/plain": [
       "<AxesSubplot:>"
      ]
     },
     "execution_count": 66,
     "metadata": {},
     "output_type": "execute_result"
    },
    {
     "data": {
      "image/png": "[encoded data removed]",
      "text/plain": [
       "<Figure size 432x288 with 1 Axes>"
      ]
     },
     "metadata": {
      "needs_background": "light"
     },
     "output_type": "display_data"
    }
   ],
   "source": [
    "df.boxplot(column=\"Daerah\")"
   ]
  },
  {
   "cell_type": "code",
   "execution_count": 67,
   "id": "ef6b8a01",
   "metadata": {},
   "outputs": [
    {
     "data": {
      "text/plain": [
       "<AxesSubplot:>"
      ]
     },
     "execution_count": 67,
     "metadata": {},
     "output_type": "execute_result"
    },
    {
     "data": {
      "image/png": "[encoded data removed]",
      "text/plain": [
       "<Figure size 432x288 with 1 Axes>"
      ]
     },
     "metadata": {
      "needs_background": "light"
     },
     "output_type": "display_data"
    }
   ],
   "source": [
    "df[\"SumbuUtama\"].hist()"
   ]
  },
  {
   "cell_type": "code",
   "execution_count": 68,
   "id": "cffc1d8b",
   "metadata": {},
   "outputs": [
    {
     "data": {
      "text/plain": [
       "<AxesSubplot:>"
      ]
     },
     "execution_count": 68,
     "metadata": {},
     "output_type": "execute_result"
    },
    {
     "data": {
      "image/png": "[encoded data removed]",
      "text/plain": [
       "<Figure size 432x288 with 1 Axes>"
      ]
     },
     "metadata": {
      "needs_background": "light"
     },
     "output_type": "display_data"
    }
   ],
   "source": [
    "df.boxplot(column=\"SumbuUtama\")"
   ]
  },
  {
   "cell_type": "code",
   "execution_count": 69,
   "id": "95ab976c",
   "metadata": {},
   "outputs": [
    {
     "data": {
      "text/plain": [
       "<AxesSubplot:>"
      ]
     },
     "execution_count": 69,
     "metadata": {},
     "output_type": "execute_result"
    },
    {
     "data": {
      "image/png": "[encoded data removed]",
      "text/plain": [
       "<Figure size 432x288 with 1 Axes>"
      ]
     },
     "metadata": {
      "needs_background": "light"
     },
     "output_type": "display_data"
    }
   ],
   "source": [
    "df[\"SumbuKecil\"].hist()"
   ]
  },
  {
   "cell_type": "code",
   "execution_count": 70,
   "id": "618a2d68",
   "metadata": {},
   "outputs": [
    {
     "data": {
      "text/plain": [
       "<AxesSubplot:>"
      ]
     },
     "execution_count": 70,
     "metadata": {},
     "output_type": "execute_result"
    },
    {
     "data": {
      "image/png": "[encoded data removed]",
      "text/plain": [
       "<Figure size 432x288 with 1 Axes>"
      ]
     },
     "metadata": {
      "needs_background": "light"
     },
     "output_type": "display_data"
    }
   ],
   "source": [
    "df.boxplot(column=\"SumbuKecil\")"
   ]
  },
  {
   "cell_type": "code",
   "execution_count": 71,
   "id": "68190ff5",
   "metadata": {},
   "outputs": [
    {
     "data": {
      "text/plain": [
       "<AxesSubplot:>"
      ]
     },
     "execution_count": 71,
     "metadata": {},
     "output_type": "execute_result"
    },
    {
     "data": {
      "image/png": "[encoded data removed]",
      "text/plain": [
       "<Figure size 432x288 with 1 Axes>"
      ]
     },
     "metadata": {
      "needs_background": "light"
     },
     "output_type": "display_data"
    }
   ],
   "source": [
    "df[\"Keunikan\"].hist()"
   ]
  },
  {
   "cell_type": "code",
   "execution_count": 72,
   "id": "87a07ff1",
   "metadata": {
    "scrolled": true
   },
   "outputs": [
    {
     "data": {
      "text/plain": [
       "<AxesSubplot:>"
      ]
     },
     "execution_count": 72,
     "metadata": {},
     "output_type": "execute_result"
    },
    {
     "data": {
      "image/png": "[encoded data removed]",
      "text/plain": [
       "<Figure size 432x288 with 1 Axes>"
      ]
     },
     "metadata": {
      "needs_background": "light"
     },
     "output_type": "display_data"
    }
   ],
   "source": [
    "df.boxplot(column=\"Keunikan\")"
   ]
  },
  {
   "cell_type": "code",
   "execution_count": 73,
   "id": "6fe8ad2f",
   "metadata": {},
   "outputs": [
    {
     "data": {
      "text/plain": [
       "<AxesSubplot:>"
      ]
     },
     "execution_count": 73,
     "metadata": {},
     "output_type": "execute_result"
    },
    {
     "data": {
      "image/png": "[encoded data removed]",
      "text/plain": [
       "<Figure size 432x288 with 1 Axes>"
      ]
     },
     "metadata": {
      "needs_background": "light"
     },
     "output_type": "display_data"
    }
   ],
   "source": [
    "df[\"AreaBulatan\"].hist()"
   ]
  },
  {
   "cell_type": "code",
   "execution_count": 74,
   "id": "25aa0e81",
   "metadata": {},
   "outputs": [
    {
     "data": {
      "text/plain": [
       "<AxesSubplot:>"
      ]
     },
     "execution_count": 74,
     "metadata": {},
     "output_type": "execute_result"
    },
    {
     "data": {
      "image/png": "[encoded data removed]",
      "text/plain": [
       "<Figure size 432x288 with 1 Axes>"
      ]
     },
     "metadata": {
      "needs_background": "light"
     },
     "output_type": "display_data"
    }
   ],
   "source": [
    "df.boxplot(column=\"AreaBulatan\")"
   ]
  },
  {
   "cell_type": "code",
   "execution_count": 75,
   "id": "38a7ef6f",
   "metadata": {},
   "outputs": [
    {
     "data": {
      "text/plain": [
       "<AxesSubplot:>"
      ]
     },
     "execution_count": 75,
     "metadata": {},
     "output_type": "execute_result"
    },
    {
     "data": {
      "image/png": "[encoded data removed]",
      "text/plain": [
       "<Figure size 432x288 with 1 Axes>"
      ]
     },
     "metadata": {
      "needs_background": "light"
     },
     "output_type": "display_data"
    }
   ],
   "source": [
    "df[\"Diameter\"].hist()"
   ]
  },
  {
   "cell_type": "code",
   "execution_count": 76,
   "id": "870d11ff",
   "metadata": {},
   "outputs": [
    {
     "data": {
      "text/plain": [
       "<AxesSubplot:>"
      ]
     },
     "execution_count": 76,
     "metadata": {},
     "output_type": "execute_result"
    },
    {
     "data": {
      "image/png": "[encoded data removed]",
      "text/plain": [
       "<Figure size 432x288 with 1 Axes>"
      ]
     },
     "metadata": {
      "needs_background": "light"
     },
     "output_type": "display_data"
    }
   ],
   "source": [
    "df.boxplot(column=\"Diameter\")"
   ]
  },
  {
   "cell_type": "code",
   "execution_count": 77,
   "id": "52a7a999",
   "metadata": {},
   "outputs": [
    {
     "data": {
      "text/plain": [
       "<AxesSubplot:>"
      ]
     },
     "execution_count": 77,
     "metadata": {},
     "output_type": "execute_result"
    },
    {
     "data": {
      "image/png": "[encoded data removed]",
      "text/plain": [
       "<Figure size 432x288 with 1 Axes>"
      ]
     },
     "metadata": {
      "needs_background": "light"
     },
     "output_type": "display_data"
    }
   ],
   "source": [
    "df[\"KadarAir\"].hist()"
   ]
  },
  {
   "cell_type": "code",
   "execution_count": 78,
   "id": "972d48e3",
   "metadata": {},
   "outputs": [
    {
     "data": {
      "text/plain": [
       "<AxesSubplot:>"
      ]
     },
     "execution_count": 78,
     "metadata": {},
     "output_type": "execute_result"
    },
    {
     "data": {
      "image/png": "[encoded data removed]",
      "text/plain": [
       "<Figure size 432x288 with 1 Axes>"
      ]
     },
     "metadata": {
      "needs_background": "light"
     },
     "output_type": "display_data"
    }
   ],
   "source": [
    "df.boxplot(column=\"KadarAir\")"
   ]
  },
  {
   "cell_type": "code",
   "execution_count": 79,
   "id": "4f8ab9ec",
   "metadata": {},
   "outputs": [
    {
     "data": {
      "text/plain": [
       "<AxesSubplot:>"
      ]
     },
     "execution_count": 79,
     "metadata": {},
     "output_type": "execute_result"
    },
    {
     "data": {
      "image/png": "[encoded data removed]",
      "text/plain": [
       "<Figure size 432x288 with 1 Axes>"
      ]
     },
     "metadata": {
      "needs_background": "light"
     },
     "output_type": "display_data"
    }
   ],
   "source": [
    "df[\"Keliling\"].hist()"
   ]
  },
  {
   "cell_type": "code",
   "execution_count": 80,
   "id": "58af5d57",
   "metadata": {},
   "outputs": [
    {
     "data": {
      "text/plain": [
       "<AxesSubplot:>"
      ]
     },
     "execution_count": 80,
     "metadata": {},
     "output_type": "execute_result"
    },
    {
     "data": {
      "image/png": "[encoded data removed]",
      "text/plain": [
       "<Figure size 432x288 with 1 Axes>"
      ]
     },
     "metadata": {
      "needs_background": "light"
     },
     "output_type": "display_data"
    }
   ],
   "source": [
    "df.boxplot(column=\"Keliling\")"
   ]
  },
  {
   "cell_type": "code",
   "execution_count": 81,
   "id": "3ad84554",
   "metadata": {},
   "outputs": [
    {
     "data": {
      "text/plain": [
       "<AxesSubplot:>"
      ]
     },
     "execution_count": 81,
     "metadata": {},
     "output_type": "execute_result"
    },
    {
     "data": {
      "image/png": "[encoded data removed]",
      "text/plain": [
       "<Figure size 432x288 with 1 Axes>"
      ]
     },
     "metadata": {
      "needs_background": "light"
     },
     "output_type": "display_data"
    }
   ],
   "source": [
    "df[\"Bulatan\"].hist()"
   ]
  },
  {
   "cell_type": "code",
   "execution_count": 82,
   "id": "54bf51ee",
   "metadata": {},
   "outputs": [
    {
     "data": {
      "text/plain": [
       "<AxesSubplot:>"
      ]
     },
     "execution_count": 82,
     "metadata": {},
     "output_type": "execute_result"
    },
    {
     "data": {
      "image/png": "[encoded data removed]",
      "text/plain": [
       "<Figure size 432x288 with 1 Axes>"
      ]
     },
     "metadata": {
      "needs_background": "light"
     },
     "output_type": "display_data"
    }
   ],
   "source": [
    "df.boxplot(column=\"Bulatan\")"
   ]
  },
  {
   "cell_type": "code",
   "execution_count": 83,
   "id": "f6518eef",
   "metadata": {},
   "outputs": [
    {
     "data": {
      "text/plain": [
       "<AxesSubplot:>"
      ]
     },
     "execution_count": 83,
     "metadata": {},
     "output_type": "execute_result"
    },
    {
     "data": {
      "image/png": "[encoded data removed]",
      "text/plain": [
       "<Figure size 432x288 with 1 Axes>"
      ]
     },
     "metadata": {
      "needs_background": "light"
     },
     "output_type": "display_data"
    }
   ],
   "source": [
    "df[\"Ransum\"].hist()"
   ]
  },
  {
   "cell_type": "code",
   "execution_count": 84,
   "id": "d5b3a1ed",
   "metadata": {},
   "outputs": [
    {
     "data": {
      "text/plain": [
       "<AxesSubplot:>"
      ]
     },
     "execution_count": 84,
     "metadata": {},
     "output_type": "execute_result"
    },
    {
     "data": {
      "image/png": "[encoded data removed]",
      "text/plain": [
       "<Figure size 432x288 with 1 Axes>"
      ]
     },
     "metadata": {
      "needs_background": "light"
     },
     "output_type": "display_data"
    }
   ],
   "source": [
    "df.boxplot(column=\"Ransum\")"
   ]
  },
  {
   "cell_type": "markdown",
   "id": "56be86a2",
   "metadata": {},
   "source": [
    "## Soal 3\n",
    "Menentukan setiap kolom numerik berdistribusi normal atau tidak. Gunakan normality test\n",
    "yang dikaitkan dengan histogram plot."
   ]
  },
  {
   "cell_type": "code",
   "execution_count": 85,
   "id": "69c5f536",
   "metadata": {},
   "outputs": [
    {
     "name": "stdout",
     "output_type": "stream",
     "text": [
      "Kolom Daerah tidak berdistribusi normal\n",
      "Kolom SumbuUtama tidak berdistribusi normal\n",
      "Kolom SumbuKecil berdistribusi normal\n",
      "Kolom Keunikan tidak berdistribusi normal\n",
      "Kolom AreaBulatan tidak berdistribusi normal\n",
      "Kolom Diameter tidak berdistribusi normal\n",
      "Kolom KadarAir tidak berdistribusi normal\n",
      "Kolom Keliling tidak berdistribusi normal\n",
      "Kolom Bulatan tidak berdistribusi normal\n",
      "Kolom Ransum tidak berdistribusi normal\n"
     ]
    }
   ],
   "source": [
    "listOfIsNormal = []\n",
    "i = 0\n",
    "while i < len(numeric):\n",
    "    stat, p = normaltest(df[numeric[i]])\n",
    "    if p > 0.05:\n",
    "        listOfIsNormal.append(True)\n",
    "    else:\n",
    "        listOfIsNormal.append(False)\n",
    "    i+=1\n",
    "\n",
    "i = 0\n",
    "while i < len(numeric):\n",
    "    print(\"Kolom {0}\".format(numeric[i]), end = ' ')\n",
    "    if listOfIsNormal[i]:\n",
    "        print(\"berdistribusi normal\")\n",
    "    else:\n",
    "        print(\"tidak berdistribusi normal\")\n",
    "    i+=1"
   ]
  },
  {
   "cell_type": "code",
   "execution_count": null,
   "id": "3578b42b",
   "metadata": {},
   "outputs": [],
   "source": []
  }
 ],
 "metadata": {
  "kernelspec": {
   "display_name": "Python 3",
   "language": "python",
   "name": "python3"
  },
  "language_info": {
   "codemirror_mode": {
    "name": "ipython",
    "version": 3
   },
   "file_extension": ".py",
   "mimetype": "text/x-python",
   "name": "python",
   "nbconvert_exporter": "python",
   "pygments_lexer": "ipython3",
   "version": "3.9.2"
  }
 },
 "nbformat": 4,
 "nbformat_minor": 5
}
